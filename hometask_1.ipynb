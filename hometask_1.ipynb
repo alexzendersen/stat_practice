{
  "cells": [
    {
      "cell_type": "markdown",
      "metadata": {
        "id": "view-in-github",
        "colab_type": "text"
      },
      "source": [
        "<a href=\"https://colab.research.google.com/github/alexzendersen/stat_practice/blob/main/hometask_1.ipynb\" target=\"_parent\"><img src=\"https://colab.research.google.com/assets/colab-badge.svg\" alt=\"Open In Colab\"/></a>"
      ]
    },
    {
      "cell_type": "markdown",
      "source": [
        "<a href=\"https://colab.research.google.com/drive/1Nx_klyuwQfMlq_v3woczmeeI3ZKiSdvY?usp=sharing\" target=\"_parent\"><img src=\"https://colab.research.google.com/assets/colab-badge.svg\" alt=\"Open In Colab\"/></a>"
      ],
      "metadata": {
        "id": "BPnoMGlR4rUB"
      }
    },
    {
      "cell_type": "markdown",
      "metadata": {
        "id": "xw8BD8v2oBGj"
      },
      "source": [
        "# Homework"
      ]
    },
    {
      "cell_type": "markdown",
      "metadata": {
        "id": "sSos7q2_oBGj"
      },
      "source": [
        "## Problem 1"
      ]
    },
    {
      "cell_type": "markdown",
      "metadata": {
        "id": "NiX8ePp0oBGk"
      },
      "source": [
        "Make a tuple containing natural numbers, the square of which is a multiple of 3, 4, but not a multiple of 8 and not exceeding 12345."
      ]
    },
    {
      "cell_type": "code",
      "execution_count": 3,
      "metadata": {
        "id": "XmPHEnS9oBGk",
        "colab": {
          "base_uri": "https://localhost:8080/"
        },
        "outputId": "afc3f85b-f1f0-4e85-96b6-ea452ba7416d"
      },
      "outputs": [
        {
          "output_type": "execute_result",
          "data": {
            "text/plain": [
              "(6, 18, 30, 42, 54, 66, 78, 90, 102)"
            ]
          },
          "metadata": {},
          "execution_count": 3
        }
      ],
      "source": [
        "t = tuple(i for i in range(int(12346**(0.5)) + 1) if (i**2 % 12 == 0 and i**2 % 8 != 0))\n",
        "t"
      ]
    },
    {
      "cell_type": "markdown",
      "metadata": {
        "id": "OZBeUyxcoBGk"
      },
      "source": [
        "## Problem 2"
      ]
    },
    {
      "cell_type": "markdown",
      "metadata": {
        "id": "zIfvg22noBGk"
      },
      "source": [
        "\n",
        "Write a function that takes a two-dimensional array and a string as input and returns an array rotated 90 degrees counterclockwise if the string 'left' was passed, and clockwise if the string 'right' was passed.\n",
        "\n",
        "Example for input: $\\begin{bmatrix} 1 & 2 & 3 \\\\ 4 & 5 & 6 \\\\ 7 & 8 & 9 \\end{bmatrix}$.\\\n",
        "If the string 'left' is passed, the function should return $\\begin{bmatrix} 3 & 6 & 9 \\\\ 2 & 5 & 8 \\\\ 1 & 4 & 7 \\end{bmatrix}$, and if the string 'right' is passed, the function should return $\\begin{bmatrix} 7 & 4 & 1 \\\\ 8 & 5 & 2 \\\\ 9 & 6 & 3 \\end{bmatrix}$."
      ]
    },
    {
      "cell_type": "markdown",
      "source": [
        "Пояснение: взял матрицу, упаковал первые элементы каждой строки, скомпановал в один лист и перевернул, чтобы был корректный ответ. С правым поворотом логика аналогична"
      ],
      "metadata": {
        "id": "fOlS_15rt2a2"
      }
    },
    {
      "cell_type": "code",
      "execution_count": 20,
      "metadata": {
        "id": "HNvy_cRjoBGk"
      },
      "outputs": [],
      "source": [
        "def rotate(matrix, dir):\n",
        "  if (dir == 'left'):\n",
        "    return list(map(list, zip(*matrix)))[::-1]\n",
        "  elif (dir == 'right'):\n",
        "    return list(map(list, zip(*matrix[::-1])))"
      ]
    },
    {
      "cell_type": "markdown",
      "source": [
        "Tests"
      ],
      "metadata": {
        "id": "v0XKKEqSuPWk"
      }
    },
    {
      "cell_type": "code",
      "source": [
        "matrix = [[1, 2, 3], [4, 5, 6], [7, 8, 9]]\n",
        "print(f\"left: {rotate(matrix, 'left')}\")\n",
        "print(f\"right: {rotate(matrix, 'right')}\")\n"
      ],
      "metadata": {
        "colab": {
          "base_uri": "https://localhost:8080/"
        },
        "id": "9DauXsmytQCH",
        "outputId": "38fc4b3f-1dd6-4bc7-a534-1c4229c6ccb6"
      },
      "execution_count": 21,
      "outputs": [
        {
          "output_type": "stream",
          "name": "stdout",
          "text": [
            "left: [[3, 6, 9], [2, 5, 8], [1, 4, 7]]\n",
            "right: [[7, 4, 1], [8, 5, 2], [9, 6, 3]]\n"
          ]
        }
      ]
    },
    {
      "cell_type": "markdown",
      "metadata": {
        "id": "_dY-PFlCoBGk"
      },
      "source": [
        "## Problem 3"
      ]
    },
    {
      "cell_type": "markdown",
      "metadata": {
        "id": "3CaIwcm0oBGk"
      },
      "source": [
        "Write a function that takes a string as input and returns a dictionary containing the number of occurrences of each character in the string.\n",
        "\n",
        "Example for the string 'hello, world!': {'h': 1, 'e': 1, 'l': 3, 'o': 2, ',': 1, ' ': 1, 'w': 1, 'r': 1, 'd': 1, '!': 1}."
      ]
    },
    {
      "cell_type": "code",
      "execution_count": 24,
      "metadata": {
        "id": "rlSbHusZoBGk"
      },
      "outputs": [],
      "source": [
        "def count_of_unique_symbols(string):\n",
        "  d = dict()\n",
        "  for char in string:\n",
        "    if (d.get(char) == None):\n",
        "      d.update({char: 1})\n",
        "    else:\n",
        "      d.update({char : d.get(char) + 1})\n",
        "  return d"
      ]
    },
    {
      "cell_type": "code",
      "source": [
        "string = \"hello, world!\"\n",
        "count_of_unique_symbols(string)"
      ],
      "metadata": {
        "colab": {
          "base_uri": "https://localhost:8080/"
        },
        "id": "l_vAaTu9u2gj",
        "outputId": "5029ea33-3d2a-4c3d-a31c-356d0340f45d"
      },
      "execution_count": 25,
      "outputs": [
        {
          "output_type": "execute_result",
          "data": {
            "text/plain": [
              "{'h': 1,\n",
              " 'e': 1,\n",
              " 'l': 3,\n",
              " 'o': 2,\n",
              " ',': 1,\n",
              " ' ': 1,\n",
              " 'w': 1,\n",
              " 'r': 1,\n",
              " 'd': 1,\n",
              " '!': 1}"
            ]
          },
          "metadata": {},
          "execution_count": 25
        }
      ]
    },
    {
      "cell_type": "markdown",
      "metadata": {
        "id": "KBGJ7PeboBGk"
      },
      "source": [
        "## Problem 4"
      ]
    },
    {
      "cell_type": "markdown",
      "metadata": {
        "id": "XS4Seqa9oBGk"
      },
      "source": [
        "### Implementing a Library Management System\n",
        "\n",
        "#### Description\n",
        "\n",
        "You are required to design and implement a system for managing books and users in a library. The system should allow for the management of books (adding, deleting, searching by various criteria) and users (registration, deletion, searching), as well as tracking the history of interactions between them (issuing and returning books).\n",
        "\n",
        "#### Tasks\n",
        "\n",
        "1. **`Book` Class**:\n",
        "   - Attributes: title, author, year of publication, ISBN, number of copies.\n",
        "   - Methods: constructor, methods to get information about the book, method to change the number of copies (when issuing and returning books).\n",
        "\n",
        "2. **`User` Class**:\n",
        "   - Attributes: user name, library card number, list of borrowed books.\n",
        "   - Methods: constructor, methods for user registration, methods for adding and removing books from the borrowed list.\n",
        "\n",
        "3. **`Library` Class**:\n",
        "   - Attributes: list of books, list of users, transaction history (who, when, which book was borrowed and returned).\n",
        "   - Methods: constructor, methods for adding and deleting books and users, methods for issuing and returning books, searching for books and users by various criteria, method to display the transaction history.\n",
        "\n",
        "#### Assignment\n",
        "\n",
        "1. Implement the `Book`, `User`, and `Library` classes with the specified attributes and methods.\n",
        "2. Create several books and users, and add them to the library system.\n",
        "3. Implement scenarios for issuing books to users and their return.\n",
        "4. Display the transaction history to show how books were issued and returned.\n"
      ]
    },
    {
      "cell_type": "code",
      "execution_count": 28,
      "metadata": {
        "id": "IbqwtWWsoBGl"
      },
      "outputs": [],
      "source": [
        "import random\n",
        "from datetime import datetime\n",
        "\n",
        "class Book:\n",
        "    def __init__(self, title, author, year, isbn, copies):\n",
        "        self.title = title\n",
        "        self.author = author\n",
        "        self.year = year\n",
        "        self.isbn = isbn\n",
        "        self.copies = copies\n",
        "\n",
        "    def info(self):\n",
        "        return {\n",
        "            \"title\": self.title,\n",
        "            \"author\": self.author,\n",
        "            \"publication_year\": self.year,\n",
        "            \"ISBN\": self.isbn,\n",
        "            \"count_of_copies\": self.copies\n",
        "        }\n",
        "\n",
        "    def change_copies(self, action):\n",
        "        if action == 'issue':\n",
        "            if self.copies == 0:\n",
        "                raise ValueError(\"You can't borrow this book\")\n",
        "            self.copies -= 1\n",
        "        elif action == 'return':\n",
        "            self.copies += 1\n",
        "\n",
        "class User:\n",
        "    def __init__(self, username):\n",
        "        self.username = username\n",
        "        self.library_id = None\n",
        "        self.borrowed_books = []\n",
        "\n",
        "    def register_to_library(self, library):\n",
        "        self.library_id = library.add_user(self)\n",
        "\n",
        "    def borrow_book(self, book_title, library):\n",
        "        library.issue_book(self, book_title)\n",
        "\n",
        "    def return_book(self, book_title, library):\n",
        "        library.return_book(self, book_title)\n",
        "\n",
        "class Library:\n",
        "    def __init__(self, books):\n",
        "        self.books = {book.title: book for book in books}\n",
        "        self.users = {}\n",
        "        self.transactions = []\n",
        "\n",
        "    def add_user(self, user):\n",
        "        user_id = random.randint(0, 99999)\n",
        "        while user_id in self.users:\n",
        "            user_id = random.randint(0, 99999)\n",
        "        self.users[user_id] = user\n",
        "        return user_id\n",
        "\n",
        "    def remove_user(self, user_id):\n",
        "        if user_id in self.users:\n",
        "            del self.users[user_id]\n",
        "\n",
        "    def add_book(self, book):\n",
        "        if book.title in self.books:\n",
        "            self.books[book.title].change_copies('return')\n",
        "        else:\n",
        "            self.books[book.title] = book\n",
        "\n",
        "    def remove_book(self, book_title):\n",
        "        if book_title in self.books:\n",
        "            if self.books[book_title].copies > 0:\n",
        "                self.books[book_title].change_copies('issue')\n",
        "            else:\n",
        "                del self.books[book_title]\n",
        "\n",
        "    def issue_book(self, user, book_title):\n",
        "        if book_title in self.books:\n",
        "            book = self.books[book_title]\n",
        "            book.change_copies('issue')\n",
        "            user.borrowed_books.append(book_title)\n",
        "            self.transactions.append({\n",
        "                \"user\": user.username,\n",
        "                \"action\": \"issue\",\n",
        "                \"book\": book_title,\n",
        "                \"date\": datetime.now()\n",
        "            })\n",
        "        else:\n",
        "            raise ValueError(\"Book not found\")\n",
        "\n",
        "    def return_book(self, user, book_title):\n",
        "        if book_title in self.books:\n",
        "            book = self.books[book_title]\n",
        "            book.change_copies('return')\n",
        "            user.borrowed_books.remove(book_title)\n",
        "            self.transactions.append({\n",
        "                \"user\": user.username,\n",
        "                \"action\": \"return\",\n",
        "                \"book\": book_title,\n",
        "                \"date\": datetime.now()\n",
        "            })\n",
        "        else:\n",
        "            raise ValueError(\"Book not found\")\n",
        "\n",
        "    def search_books(self, **criteria):\n",
        "        results = []\n",
        "        for book in self.books.values():\n",
        "            match = True\n",
        "            for key, value in criteria.items():\n",
        "                if getattr(book, key, None) != value:\n",
        "                    match = False\n",
        "                    break\n",
        "            if match:\n",
        "                results.append(book.info())\n",
        "        return results\n",
        "\n",
        "    def search_users(self, username=None, library_id=None):\n",
        "        results = []\n",
        "        for user_id, user in self.users.items():\n",
        "            if (username and user.username == username) or (library_id and user_id == library_id):\n",
        "                results.append({\"username\": user.username, \"library_id\": user_id})\n",
        "        return results\n",
        "\n",
        "    def display_transaction_history(self):\n",
        "        return self.transactions"
      ]
    },
    {
      "cell_type": "code",
      "source": [
        "book1 = Book(\"Война и мир\", \"Лев Толстой\", 1869, \"978-5-12345-678-9\", 3)\n",
        "book2 = Book(\"Преступление и наказание\", \"Федор Достоевский\", 1866, \"978-5-98765-432-1\", 2)\n",
        "book3 = Book(\"Мастер и Маргарита\", \"Михаил Булгаков\", 1967, \"978-5-34567-890-1\", 1)\n",
        "\n",
        "user1 = User(\"Иван Иванов\")\n",
        "user2 = User(\"Мария Петрова\")\n",
        "\n",
        "library = Library([book1, book2, book3])\n",
        "\n",
        "user1.register_to_library(library)\n",
        "user2.register_to_library(library)\n",
        "\n",
        "try:\n",
        "    user1.borrow_book(\"Война и мир\", library)\n",
        "    user2.borrow_book(\"Преступление и наказание\", library)\n",
        "    user1.borrow_book(\"Мастер и Маргарита\", library)\n",
        "    user1.return_book(\"Война и мир\", library)\n",
        "    user2.return_book(\"Преступление и наказание\", library)\n",
        "except ValueError as e:\n",
        "    print(e)\n",
        "\n",
        "try:\n",
        "    user2.borrow_book(\"Мастер и Маргарита\", library)\n",
        "except ValueError as e:\n",
        "    print(e)\n",
        "\n",
        "transactions = library.display_transaction_history()\n",
        "for transaction in transactions:\n",
        "    print(transaction)\n",
        "\n",
        "print(library.search_books(author=\"Лев Толстой\"))\n",
        "print(library.search_users(username=\"Мария Петрова\"))"
      ],
      "metadata": {
        "colab": {
          "base_uri": "https://localhost:8080/"
        },
        "id": "r7Uoyj0t9DSj",
        "outputId": "83bbc1fe-7912-4ff5-e48d-ac07b1ebf28d"
      },
      "execution_count": 29,
      "outputs": [
        {
          "output_type": "stream",
          "name": "stdout",
          "text": [
            "You can't borrow this book\n",
            "{'user': 'Иван Иванов', 'action': 'issue', 'book': 'Война и мир', 'date': datetime.datetime(2025, 2, 15, 9, 33, 26, 270689)}\n",
            "{'user': 'Мария Петрова', 'action': 'issue', 'book': 'Преступление и наказание', 'date': datetime.datetime(2025, 2, 15, 9, 33, 26, 270698)}\n",
            "{'user': 'Иван Иванов', 'action': 'issue', 'book': 'Мастер и Маргарита', 'date': datetime.datetime(2025, 2, 15, 9, 33, 26, 270701)}\n",
            "{'user': 'Иван Иванов', 'action': 'return', 'book': 'Война и мир', 'date': datetime.datetime(2025, 2, 15, 9, 33, 26, 270761)}\n",
            "{'user': 'Мария Петрова', 'action': 'return', 'book': 'Преступление и наказание', 'date': datetime.datetime(2025, 2, 15, 9, 33, 26, 270765)}\n",
            "[{'title': 'Война и мир', 'author': 'Лев Толстой', 'publication_year': 1869, 'ISBN': '978-5-12345-678-9', 'count_of_copies': 3}]\n",
            "[{'username': 'Мария Петрова', 'library_id': 39445}]\n"
          ]
        }
      ]
    },
    {
      "cell_type": "markdown",
      "metadata": {
        "id": "0c8zRbSIoBGl"
      },
      "source": [
        "## Problem 5*"
      ]
    },
    {
      "cell_type": "markdown",
      "metadata": {
        "id": "8ltdzRmOoBGl"
      },
      "source": [
        "Explain why list `b` changes after the execution of the following code:\n",
        "\n",
        "```python\n",
        "a = [1, 2, 3]\n",
        "b = a\n",
        "a[0] = 4\n",
        "print(b)\n",
        "```"
      ]
    },
    {
      "cell_type": "markdown",
      "metadata": {
        "id": "RxgnUfFPoBGl"
      },
      "source": [
        "> Write your answer in markdown cell after:"
      ]
    },
    {
      "cell_type": "markdown",
      "source": [
        "**Ответ:**\n",
        "Так происходит, потому что при инициализации переменной b, равной а, они указывают на один и тот же массив в памяти, поэтому изменив первый элемент а, мы фактически изменили некоторую ячейку в памяти, на которую указывала, в частности, переменная b."
      ],
      "metadata": {
        "id": "uZZewwJAvChK"
      }
    },
    {
      "cell_type": "markdown",
      "metadata": {
        "id": "Mb-amOX5oBGl"
      },
      "source": []
    },
    {
      "cell_type": "markdown",
      "metadata": {
        "id": "TmXLkc_foBGl"
      },
      "source": [
        "## Problem 6*"
      ]
    },
    {
      "cell_type": "markdown",
      "metadata": {
        "id": "Gn0ibiVCoBGl"
      },
      "source": [
        "Let\n",
        "$$A = \\sum_{i=1}^{10000} \\frac{1}{i^2},\\quad B=\\sum_{i=10000}^{1} \\frac{1}{i^2}.$$\n",
        "Calculate the values of $A$ and $B$ and compare them. What do you observe? Explain why this happens. What is the best way to calculate the value of $\\sum\\limits_{i=1}^{10000} \\dfrac{1}{i^2}$?"
      ]
    },
    {
      "cell_type": "code",
      "execution_count": 26,
      "metadata": {
        "id": "3q93uGqFoBGl",
        "colab": {
          "base_uri": "https://localhost:8080/"
        },
        "outputId": "8dc2d453-2bda-49bc-99e6-0146bc2d0172"
      },
      "outputs": [
        {
          "output_type": "execute_result",
          "data": {
            "text/plain": [
              "(1.6448340718480652, 1.6448340718480596)"
            ]
          },
          "metadata": {},
          "execution_count": 26
        }
      ],
      "source": [
        "A = sum([1/i**2 for i in range(1, 10001)])\n",
        "B = sum([1/i**2 for i in range(10000, 0, -1)])\n",
        "A, B"
      ]
    },
    {
      "cell_type": "markdown",
      "source": [
        "Дело в том, что при вычислении А мы в начале складываем большие числа, а потом маленькие, поэтому мантисса маленьких чисел банально \"теряется\". В B ситуация противоположная. Поэтому стоит верить B, потому что в этой сумме учитываются мантиссы маленьких чисел"
      ],
      "metadata": {
        "id": "oK_vFFQ6wXWx"
      }
    }
  ],
  "metadata": {
    "colab": {
      "provenance": [],
      "include_colab_link": true
    },
    "kernelspec": {
      "display_name": "Python 3",
      "language": "python",
      "name": "python3"
    },
    "language_info": {
      "codemirror_mode": {
        "name": "ipython",
        "version": 3
      },
      "file_extension": ".py",
      "mimetype": "text/x-python",
      "name": "python",
      "nbconvert_exporter": "python",
      "pygments_lexer": "ipython3",
      "version": "3.10.6"
    }
  },
  "nbformat": 4,
  "nbformat_minor": 0
}